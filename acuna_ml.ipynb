{
 "cells": [
  {
   "cell_type": "code",
   "execution_count": 2,
   "metadata": {},
   "outputs": [],
   "source": [
    "#import some libraries\n",
    "import numpy as np\n",
    "import matplotlib.pyplot as plt\n",
    "import pandas as pd\n",
    "from sklearn.linear_model import LinearRegression"
   ]
  },
  {
   "cell_type": "code",
   "execution_count": 3,
   "metadata": {},
   "outputs": [],
   "source": [
    "#import data\n",
    "dataset = pd.read_csv('acuna_test.csv')"
   ]
  },
  {
   "cell_type": "code",
   "execution_count": 4,
   "metadata": {},
   "outputs": [
    {
     "data": {
      "text/html": [
       "<div>\n",
       "<style scoped>\n",
       "    .dataframe tbody tr th:only-of-type {\n",
       "        vertical-align: middle;\n",
       "    }\n",
       "\n",
       "    .dataframe tbody tr th {\n",
       "        vertical-align: top;\n",
       "    }\n",
       "\n",
       "    .dataframe thead th {\n",
       "        text-align: right;\n",
       "    }\n",
       "</style>\n",
       "<table border=\"1\" class=\"dataframe\">\n",
       "  <thead>\n",
       "    <tr style=\"text-align: right;\">\n",
       "      <th></th>\n",
       "      <th>Unnamed: 0</th>\n",
       "      <th>Player ID</th>\n",
       "      <th>First Name</th>\n",
       "      <th>Last Name</th>\n",
       "      <th>Year</th>\n",
       "      <th>AB</th>\n",
       "      <th>H</th>\n",
       "      <th>HR</th>\n",
       "      <th>RBI</th>\n",
       "      <th>SO</th>\n",
       "      <th>POS</th>\n",
       "      <th>Adjusted Salary</th>\n",
       "      <th>BA</th>\n",
       "    </tr>\n",
       "  </thead>\n",
       "  <tbody>\n",
       "    <tr>\n",
       "      <th>0</th>\n",
       "      <td>25633</td>\n",
       "      <td>troutmi01</td>\n",
       "      <td>Mike</td>\n",
       "      <td>Trout</td>\n",
       "      <td>2013</td>\n",
       "      <td>589</td>\n",
       "      <td>190</td>\n",
       "      <td>27</td>\n",
       "      <td>97.0</td>\n",
       "      <td>136.0</td>\n",
       "      <td>OF</td>\n",
       "      <td>525434</td>\n",
       "      <td>0.323</td>\n",
       "    </tr>\n",
       "    <tr>\n",
       "      <th>1</th>\n",
       "      <td>25634</td>\n",
       "      <td>troutmi01</td>\n",
       "      <td>Mike</td>\n",
       "      <td>Trout</td>\n",
       "      <td>2014</td>\n",
       "      <td>602</td>\n",
       "      <td>173</td>\n",
       "      <td>36</td>\n",
       "      <td>111.0</td>\n",
       "      <td>184.0</td>\n",
       "      <td>OF</td>\n",
       "      <td>1013817</td>\n",
       "      <td>0.287</td>\n",
       "    </tr>\n",
       "    <tr>\n",
       "      <th>2</th>\n",
       "      <td>25635</td>\n",
       "      <td>troutmi01</td>\n",
       "      <td>Mike</td>\n",
       "      <td>Trout</td>\n",
       "      <td>2015</td>\n",
       "      <td>575</td>\n",
       "      <td>172</td>\n",
       "      <td>41</td>\n",
       "      <td>90.0</td>\n",
       "      <td>158.0</td>\n",
       "      <td>OF</td>\n",
       "      <td>6159738</td>\n",
       "      <td>0.299</td>\n",
       "    </tr>\n",
       "    <tr>\n",
       "      <th>3</th>\n",
       "      <td>25636</td>\n",
       "      <td>troutmi01</td>\n",
       "      <td>Mike</td>\n",
       "      <td>Trout</td>\n",
       "      <td>2016</td>\n",
       "      <td>549</td>\n",
       "      <td>173</td>\n",
       "      <td>29</td>\n",
       "      <td>100.0</td>\n",
       "      <td>137.0</td>\n",
       "      <td>OF</td>\n",
       "      <td>16083333</td>\n",
       "      <td>0.310</td>\n",
       "    </tr>\n",
       "    <tr>\n",
       "      <th>4</th>\n",
       "      <td>25750</td>\n",
       "      <td>uptonju01</td>\n",
       "      <td>Justin</td>\n",
       "      <td>Upton</td>\n",
       "      <td>2009</td>\n",
       "      <td>526</td>\n",
       "      <td>158</td>\n",
       "      <td>26</td>\n",
       "      <td>86.0</td>\n",
       "      <td>137.0</td>\n",
       "      <td>OF</td>\n",
       "      <td>460913</td>\n",
       "      <td>0.300</td>\n",
       "    </tr>\n",
       "  </tbody>\n",
       "</table>\n",
       "</div>"
      ],
      "text/plain": [
       "   Unnamed: 0  Player ID First Name Last Name  Year   AB    H  HR    RBI  \\\n",
       "0       25633  troutmi01       Mike     Trout  2013  589  190  27   97.0   \n",
       "1       25634  troutmi01       Mike     Trout  2014  602  173  36  111.0   \n",
       "2       25635  troutmi01       Mike     Trout  2015  575  172  41   90.0   \n",
       "3       25636  troutmi01       Mike     Trout  2016  549  173  29  100.0   \n",
       "4       25750  uptonju01     Justin     Upton  2009  526  158  26   86.0   \n",
       "\n",
       "      SO POS  Adjusted Salary     BA  \n",
       "0  136.0  OF           525434  0.323  \n",
       "1  184.0  OF          1013817  0.287  \n",
       "2  158.0  OF          6159738  0.299  \n",
       "3  137.0  OF         16083333  0.310  \n",
       "4  137.0  OF           460913  0.300  "
      ]
     },
     "execution_count": 4,
     "metadata": {},
     "output_type": "execute_result"
    }
   ],
   "source": [
    "dataset.head()"
   ]
  },
  {
   "cell_type": "code",
   "execution_count": 5,
   "metadata": {},
   "outputs": [
    {
     "data": {
      "text/html": [
       "<div>\n",
       "<style scoped>\n",
       "    .dataframe tbody tr th:only-of-type {\n",
       "        vertical-align: middle;\n",
       "    }\n",
       "\n",
       "    .dataframe tbody tr th {\n",
       "        vertical-align: top;\n",
       "    }\n",
       "\n",
       "    .dataframe thead th {\n",
       "        text-align: right;\n",
       "    }\n",
       "</style>\n",
       "<table border=\"1\" class=\"dataframe\">\n",
       "  <thead>\n",
       "    <tr style=\"text-align: right;\">\n",
       "      <th></th>\n",
       "      <th>First Name</th>\n",
       "      <th>Last Name</th>\n",
       "      <th>Year</th>\n",
       "      <th>AB</th>\n",
       "      <th>H</th>\n",
       "      <th>HR</th>\n",
       "      <th>RBI</th>\n",
       "      <th>SO</th>\n",
       "      <th>BA</th>\n",
       "      <th>Adjusted Salary</th>\n",
       "    </tr>\n",
       "  </thead>\n",
       "  <tbody>\n",
       "    <tr>\n",
       "      <th>0</th>\n",
       "      <td>Ronald</td>\n",
       "      <td>Acuna</td>\n",
       "      <td>2018</td>\n",
       "      <td>433</td>\n",
       "      <td>127</td>\n",
       "      <td>26</td>\n",
       "      <td>64</td>\n",
       "      <td>123</td>\n",
       "      <td>0.293</td>\n",
       "      <td>545000</td>\n",
       "    </tr>\n",
       "    <tr>\n",
       "      <th>1</th>\n",
       "      <td>Ronald</td>\n",
       "      <td>Acuna</td>\n",
       "      <td>2019</td>\n",
       "      <td>626</td>\n",
       "      <td>175</td>\n",
       "      <td>41</td>\n",
       "      <td>101</td>\n",
       "      <td>188</td>\n",
       "      <td>0.280</td>\n",
       "      <td>560000</td>\n",
       "    </tr>\n",
       "  </tbody>\n",
       "</table>\n",
       "</div>"
      ],
      "text/plain": [
       "  First Name Last Name  Year   AB    H  HR  RBI   SO     BA  Adjusted Salary\n",
       "0     Ronald     Acuna  2018  433  127  26   64  123  0.293           545000\n",
       "1     Ronald     Acuna  2019  626  175  41  101  188  0.280           560000"
      ]
     },
     "execution_count": 5,
     "metadata": {},
     "output_type": "execute_result"
    }
   ],
   "source": [
    "#manually entered acuña's stats, collected from baseball reference.com \n",
    "\n",
    "acuna = {\"First Name\": [\"Ronald\", \"Ronald\"], \"Last Name\": [\"Acuna\", \"Acuna\"], \"Year\": [2018,2019], \"AB\": [433,626], \"H\": [127,175], \"HR\": [26,41], \"RBI\": [64, 101], \"SO\":[123,188], \"BA\": [.293,.280], \"Adjusted Salary\": [545000, 560000]}\n",
    "acuna_df = pd.DataFrame(acuna)\n",
    "acuna_df"
   ]
  },
  {
   "cell_type": "code",
   "execution_count": 6,
   "metadata": {},
   "outputs": [
    {
     "name": "stdout",
     "output_type": "stream",
     "text": [
      "(125, 5) (125, 1)\n"
     ]
    },
    {
     "data": {
      "text/plain": [
       "((2, 5), (2, 1))"
      ]
     },
     "execution_count": 6,
     "metadata": {},
     "output_type": "execute_result"
    }
   ],
   "source": [
    "X = dataset[[\"H\", \"HR\", \"RBI\", \"BA\", \"SO\"]]  #add pos\n",
    "y = dataset[\"Adjusted Salary\"].values.reshape(-1, 1)\n",
    "X_test = acuna_df[[\"H\", \"HR\", \"RBI\", \"BA\", \"SO\"]]\n",
    "y_test = acuna_df[\"Adjusted Salary\"].values.reshape(-1, 1)\n",
    "\n",
    "\n",
    "print(X.shape, y.shape)\n",
    "X_test.shape, y_test.shape"
   ]
  },
  {
   "cell_type": "code",
   "execution_count": 7,
   "metadata": {},
   "outputs": [
    {
     "name": "stderr",
     "output_type": "stream",
     "text": [
      "/anaconda3/lib/python3.7/site-packages/sklearn/preprocessing/data.py:645: DataConversionWarning: Data with input dtype int64, float64 were all converted to float64 by StandardScaler.\n",
      "  return self.partial_fit(X, y)\n",
      "/anaconda3/lib/python3.7/site-packages/sklearn/utils/validation.py:595: DataConversionWarning: Data with input dtype int64 was converted to float64 by StandardScaler.\n",
      "  warnings.warn(msg, DataConversionWarning)\n",
      "/anaconda3/lib/python3.7/site-packages/ipykernel_launcher.py:7: DataConversionWarning: Data with input dtype int64, float64 were all converted to float64 by StandardScaler.\n",
      "  import sys\n",
      "/anaconda3/lib/python3.7/site-packages/sklearn/utils/validation.py:595: DataConversionWarning: Data with input dtype int64 was converted to float64 by StandardScaler.\n",
      "  warnings.warn(msg, DataConversionWarning)\n",
      "/anaconda3/lib/python3.7/site-packages/ipykernel_launcher.py:11: DataConversionWarning: Data with input dtype int64, float64 were all converted to float64 by StandardScaler.\n",
      "  # This is added back by InteractiveShellApp.init_path()\n",
      "/anaconda3/lib/python3.7/site-packages/sklearn/utils/validation.py:595: DataConversionWarning: Data with input dtype int64 was converted to float64 by StandardScaler.\n",
      "  warnings.warn(msg, DataConversionWarning)\n"
     ]
    }
   ],
   "source": [
    "from sklearn.preprocessing import StandardScaler\n",
    "\n",
    "X_scaler = StandardScaler().fit(X)\n",
    "y_scaler = StandardScaler().fit(y)\n",
    "\n",
    "\n",
    "X_train_scaled = X_scaler.transform(X)\n",
    "y_train_scaled = y_scaler.transform(y)\n",
    "\n",
    "\n",
    "X_test_scaled = X_scaler.transform(X_test)\n",
    "y_test_scaled = y_scaler.transform(y_test)"
   ]
  },
  {
   "cell_type": "code",
   "execution_count": 8,
   "metadata": {},
   "outputs": [
    {
     "data": {
      "text/plain": [
       "LinearRegression(copy_X=True, fit_intercept=True, n_jobs=None,\n",
       "         normalize=False)"
      ]
     },
     "execution_count": 8,
     "metadata": {},
     "output_type": "execute_result"
    }
   ],
   "source": [
    "from sklearn.linear_model import LinearRegression\n",
    "model = LinearRegression()\n",
    "model.fit(X_train_scaled, y_train_scaled)"
   ]
  },
  {
   "cell_type": "code",
   "execution_count": 9,
   "metadata": {},
   "outputs": [
    {
     "name": "stdout",
     "output_type": "stream",
     "text": [
      "0.18872580578117382\n"
     ]
    }
   ],
   "source": [
    "model.fit(X_train_scaled, y_train_scaled)\n",
    "training_score = model.score(X_train_scaled, y_train_scaled)\n",
    "print(training_score)\n",
    "#testing_score = model.score(X_test, y_test)\n",
    "\n"
   ]
  },
  {
   "cell_type": "code",
   "execution_count": 10,
   "metadata": {},
   "outputs": [
    {
     "data": {
      "image/png": "[encoded data removed]",
      "text/plain": [
       "<Figure size 432x288 with 1 Axes>"
      ]
     },
     "metadata": {
      "needs_background": "light"
     },
     "output_type": "display_data"
    }
   ],
   "source": [
    "model.fit(X_train_scaled, y_train_scaled)\n",
    "predictions = model.predict(X_test_scaled)\n",
    "plt.scatter(predictions, predictions - y_test_scaled, c=\"orange\", label=\"Ronald Acuña Jr.\")\n",
    "\n",
    "plt.scatter(model.predict(X_train_scaled), model.predict(X_train_scaled) - y_train_scaled, c=\"blue\")\n",
    "plt.legend()\n",
    "plt.ylabel(\"Predicted Value\")\n",
    "plt.xlabel(\"Observed Value\")\n",
    "plt.grid(True)\n",
    "\n",
    "plt.savefig(\"Output_Plots/acuna_Residual_Plot.png\")\n",
    "plt.title(\"The Ronald Acuña Jr. Test\")\n",
    "plt.show()\n"
   ]
  },
  {
   "cell_type": "code",
   "execution_count": 11,
   "metadata": {},
   "outputs": [
    {
     "data": {
      "text/plain": [
       "array([[11576970.08834606],\n",
       "       [12085395.36290416]])"
      ]
     },
     "execution_count": 11,
     "metadata": {},
     "output_type": "execute_result"
    }
   ],
   "source": [
    "acuna_prediction = y_scaler.inverse_transform(predictions)\n",
    "acuna_prediction"
   ]
  }
 ],
 "metadata": {
  "kernelspec": {
   "display_name": "Python 3",
   "language": "python",
   "name": "python3"
  },
  "language_info": {
   "codemirror_mode": {
    "name": "ipython",
    "version": 3
   },
   "file_extension": ".py",
   "mimetype": "text/x-python",
   "name": "python",
   "nbconvert_exporter": "python",
   "pygments_lexer": "ipython3",
   "version": "3.7.3"
  }
 },
 "nbformat": 4,
 "nbformat_minor": 2
}
